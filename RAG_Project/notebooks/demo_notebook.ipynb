from pymongo import MongoClient
from qdrant_client import QdrantClient
from transformers import pipeline

# MongoDB 測試
mongo_client = MongoClient("mongodb://localhost:27017/")
db = mongo_client["test_db"]
print("MongoDB collections:", db.list_collection_names())

# Qdrant 測試
qdrant = QdrantClient(host="localhost", port=6333)
print("Qdrant 測試成功")

# Transformers 測試
qa_pipeline = pipeline("question-answering", model="distilbert-base-uncased-distilled-squad")
result = qa_pipeline(question="What is RAG?", context="RAG stands for Retrieval-Augmented Generation.")
print(result)
